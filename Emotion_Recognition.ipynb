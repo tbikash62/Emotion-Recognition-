{
  "nbformat": 4,
  "nbformat_minor": 0,
  "metadata": {
    "colab": {
      "name": "Emotion Recognition.ipynb",
      "provenance": []
    },
    "kernelspec": {
      "name": "python3",
      "display_name": "Python 3"
    }
  },
  "cells": [
    {
      "cell_type": "code",
      "metadata": {
        "id": "J1TKImr-ZlL9"
      },
      "source": [
        "#Data Set - \n",
        "#https://www.mediafire.com/folder/trbjv7bysiycl/challenges-in-representation-learning-facial-expression-recognition-challenge\n"
      ],
      "execution_count": null,
      "outputs": []
    },
    {
      "cell_type": "code",
      "metadata": {
        "id": "-rjXqToic2Py",
        "colab": {
          "base_uri": "https://localhost:8080/"
        },
        "outputId": "22eb9e65-f388-46c4-8894-31ede3c8fa89"
      },
      "source": [
        "from google.colab import drive\n",
        "drive.mount(r'/content/gdrive')"
      ],
      "execution_count": null,
      "outputs": [
        {
          "output_type": "stream",
          "text": [
            "Mounted at /content/gdrive\n"
          ],
          "name": "stdout"
        }
      ]
    },
    {
      "cell_type": "code",
      "metadata": {
        "id": "qqRnzmzRcqGE"
      },
      "source": [
        "import sys, os\n",
        "import pandas as pd\n",
        "import numpy as np\n",
        "\n",
        "from keras.models import Sequential\n",
        "from keras.layers import Dense, Dropout, Activation, Flatten\n",
        "from keras.layers import Conv2D, MaxPooling2D, BatchNormalization,AveragePooling2D\n",
        "from keras.losses import categorical_crossentropy\n",
        "from keras.optimizers import Adam\n",
        "from keras.regularizers import l2\n",
        "from keras.utils import np_utils\n",
        "# pd.set_option('display.max_rows', 500)\n",
        "# pd.set_option('display.max_columns', 500)\n",
        "# pd.set_option('display.width', 1000)\n",
        "\n",
        "df=pd.read_csv(r'gdrive/My Drive/Data/fer2013.csv')\n"
      ],
      "execution_count": null,
      "outputs": []
    },
    {
      "cell_type": "code",
      "metadata": {
        "id": "_1GUYbvWcqNS",
        "colab": {
          "base_uri": "https://localhost:8080/"
        },
        "outputId": "f683df05-889a-44dc-8de9-266df140c878"
      },
      "source": [
        "df.info()"
      ],
      "execution_count": null,
      "outputs": [
        {
          "output_type": "stream",
          "text": [
            "<class 'pandas.core.frame.DataFrame'>\n",
            "RangeIndex: 35887 entries, 0 to 35886\n",
            "Data columns (total 3 columns):\n",
            " #   Column   Non-Null Count  Dtype \n",
            "---  ------   --------------  ----- \n",
            " 0   emotion  35887 non-null  int64 \n",
            " 1   pixels   35887 non-null  object\n",
            " 2   Usage    35887 non-null  object\n",
            "dtypes: int64(1), object(2)\n",
            "memory usage: 841.2+ KB\n"
          ],
          "name": "stdout"
        }
      ]
    },
    {
      "cell_type": "code",
      "metadata": {
        "id": "zM9aqWkccqQF",
        "colab": {
          "base_uri": "https://localhost:8080/",
          "height": 198
        },
        "outputId": "f0a6367f-32df-4f13-8d28-58e9ce11c684"
      },
      "source": [
        "df.head()"
      ],
      "execution_count": null,
      "outputs": [
        {
          "output_type": "execute_result",
          "data": {
            "text/html": [
              "<div>\n",
              "<style scoped>\n",
              "    .dataframe tbody tr th:only-of-type {\n",
              "        vertical-align: middle;\n",
              "    }\n",
              "\n",
              "    .dataframe tbody tr th {\n",
              "        vertical-align: top;\n",
              "    }\n",
              "\n",
              "    .dataframe thead th {\n",
              "        text-align: right;\n",
              "    }\n",
              "</style>\n",
              "<table border=\"1\" class=\"dataframe\">\n",
              "  <thead>\n",
              "    <tr style=\"text-align: right;\">\n",
              "      <th></th>\n",
              "      <th>emotion</th>\n",
              "      <th>pixels</th>\n",
              "      <th>Usage</th>\n",
              "    </tr>\n",
              "  </thead>\n",
              "  <tbody>\n",
              "    <tr>\n",
              "      <th>0</th>\n",
              "      <td>0</td>\n",
              "      <td>70 80 82 72 58 58 60 63 54 58 60 48 89 115 121...</td>\n",
              "      <td>Training</td>\n",
              "    </tr>\n",
              "    <tr>\n",
              "      <th>1</th>\n",
              "      <td>0</td>\n",
              "      <td>151 150 147 155 148 133 111 140 170 174 182 15...</td>\n",
              "      <td>Training</td>\n",
              "    </tr>\n",
              "    <tr>\n",
              "      <th>2</th>\n",
              "      <td>2</td>\n",
              "      <td>231 212 156 164 174 138 161 173 182 200 106 38...</td>\n",
              "      <td>Training</td>\n",
              "    </tr>\n",
              "    <tr>\n",
              "      <th>3</th>\n",
              "      <td>4</td>\n",
              "      <td>24 32 36 30 32 23 19 20 30 41 21 22 32 34 21 1...</td>\n",
              "      <td>Training</td>\n",
              "    </tr>\n",
              "    <tr>\n",
              "      <th>4</th>\n",
              "      <td>6</td>\n",
              "      <td>4 0 0 0 0 0 0 0 0 0 0 0 3 15 23 28 48 50 58 84...</td>\n",
              "      <td>Training</td>\n",
              "    </tr>\n",
              "  </tbody>\n",
              "</table>\n",
              "</div>"
            ],
            "text/plain": [
              "   emotion                                             pixels     Usage\n",
              "0        0  70 80 82 72 58 58 60 63 54 58 60 48 89 115 121...  Training\n",
              "1        0  151 150 147 155 148 133 111 140 170 174 182 15...  Training\n",
              "2        2  231 212 156 164 174 138 161 173 182 200 106 38...  Training\n",
              "3        4  24 32 36 30 32 23 19 20 30 41 21 22 32 34 21 1...  Training\n",
              "4        6  4 0 0 0 0 0 0 0 0 0 0 0 3 15 23 28 48 50 58 84...  Training"
            ]
          },
          "metadata": {
            "tags": []
          },
          "execution_count": 5
        }
      ]
    },
    {
      "cell_type": "code",
      "metadata": {
        "id": "fyz73lkIQJWK"
      },
      "source": [
        "X_train,train_y,X_test,test_y=[],[],[],[]\n",
        "\n",
        "for index, row in df.iterrows():\n",
        "    val=row['pixels'].split(\" \")\n",
        "    try:\n",
        "        if 'Training' in row['Usage']:\n",
        "           X_train.append(np.array(val,'float32'))\n",
        "           train_y.append(row['emotion'])\n",
        "        elif 'PublicTest' in row['Usage']:\n",
        "           X_test.append(np.array(val,'float32'))\n",
        "           test_y.append(row['emotion'])\n",
        "    except:\n",
        "        print(f\"error occured at index :{index} and row:{row}\")"
      ],
      "execution_count": null,
      "outputs": []
    },
    {
      "cell_type": "code",
      "metadata": {
        "id": "TD3MTwWkcqSr"
      },
      "source": [
        "num_features = 64\n",
        "num_labels = 7\n",
        "batch_size = 64\n",
        "epochs = 30\n",
        "width, height = 48, 48\n",
        "\n",
        "\n",
        "X_train = np.array(X_train,'float32')\n",
        "train_y = np.array(train_y,'float32')\n",
        "X_test = np.array(X_test,'float32')\n",
        "test_y = np.array(test_y,'float32')\n",
        "\n",
        "train_y=np_utils.to_categorical(train_y, num_classes=num_labels)\n",
        "test_y=np_utils.to_categorical(test_y, num_classes=num_labels)"
      ],
      "execution_count": null,
      "outputs": []
    },
    {
      "cell_type": "code",
      "metadata": {
        "id": "7w1tAuwBcqVR"
      },
      "source": [
        "#cannot produce\n",
        "#normalizing data between oand 1\n",
        "X_train -= np.mean(X_train, axis=0)\n",
        "X_train /= np.std(X_train, axis=0)\n",
        "\n",
        "X_test -= np.mean(X_test, axis=0)\n",
        "X_test /= np.std(X_test, axis=0)\n",
        "\n",
        "X_train = X_train.reshape(X_train.shape[0], 48, 48, 1)\n",
        "\n",
        "X_test = X_test.reshape(X_test.shape[0], 48, 48, 1)"
      ],
      "execution_count": null,
      "outputs": []
    },
    {
      "cell_type": "code",
      "metadata": {
        "id": "hlGsk5cacqXo"
      },
      "source": [
        "# print(f\"shape:{X_train.shape}\")\n",
        "##designing the cnn\n",
        "#1st convolution layer\n",
        "model = Sequential()\n",
        "\n",
        "model.add(Conv2D(64, kernel_size=(3, 3), activation='relu', input_shape=(X_train.shape[1:])))\n",
        "model.add(Conv2D(64,kernel_size= (3, 3), activation='relu'))\n",
        "# model.add(BatchNormalization())\n",
        "model.add(MaxPooling2D(pool_size=(2,2), strides=(2, 2)))\n",
        "model.add(Dropout(0.5))\n",
        "\n",
        "#2nd convolution layer\n",
        "model.add(Conv2D(64, (3, 3), activation='relu'))\n",
        "model.add(Conv2D(64, (3, 3), activation='relu'))\n",
        "# model.add(BatchNormalization())\n",
        "model.add(MaxPooling2D(pool_size=(2,2), strides=(2, 2)))\n",
        "model.add(Dropout(0.5))\n",
        "\n",
        "#3rd convolution layer\n",
        "model.add(Conv2D(128, (3, 3), activation='relu'))\n",
        "model.add(Conv2D(128, (3, 3), activation='relu'))\n",
        "# model.add(BatchNormalization())\n",
        "model.add(MaxPooling2D(pool_size=(2,2), strides=(2, 2)))\n",
        "\n",
        "model.add(Flatten())\n",
        "\n",
        "#fully connected neural networks\n",
        "model.add(Dense(1024, activation='relu'))\n",
        "model.add(Dropout(0.2))\n",
        "model.add(Dense(1024, activation='relu'))\n",
        "model.add(Dropout(0.2))\n",
        "\n",
        "model.add(Dense(num_labels, activation='softmax'))"
      ],
      "execution_count": null,
      "outputs": []
    },
    {
      "cell_type": "code",
      "metadata": {
        "id": "5F6aFWI4cqaQ",
        "colab": {
          "base_uri": "https://localhost:8080/"
        },
        "outputId": "28a298c2-a235-442b-a543-b5746f39822a"
      },
      "source": [
        "# model.summary()\n",
        "\n",
        "#Compliling the model\n",
        "model.compile(loss=categorical_crossentropy,\n",
        "              optimizer=Adam(),\n",
        "              metrics=['accuracy'])\n",
        "\n",
        "#Training the model\n",
        "model.fit(X_train, train_y,\n",
        "          batch_size=batch_size,\n",
        "          epochs=epochs,\n",
        "          verbose=1,\n",
        "          validation_data=(X_test, test_y),\n",
        "          shuffle=True)\n",
        "\n",
        "\n",
        "#Saving the  model to  use it later on\n",
        "fer_json = model.to_json()\n",
        "with open(\"fer.json\", \"w\") as json_file:\n",
        "    json_file.write(fer_json)\n",
        "model.save_weights(\"fer.h5\")"
      ],
      "execution_count": null,
      "outputs": [
        {
          "output_type": "stream",
          "text": [
            "Epoch 1/30\n",
            "449/449 [==============================] - 526s 1s/step - loss: 1.7506 - accuracy: 0.2769 - val_loss: 1.5916 - val_accuracy: 0.3686\n",
            "Epoch 2/30\n",
            "449/449 [==============================] - 519s 1s/step - loss: 1.5355 - accuracy: 0.3921 - val_loss: 1.4014 - val_accuracy: 0.4472\n",
            "Epoch 3/30\n",
            "449/449 [==============================] - 521s 1s/step - loss: 1.4117 - accuracy: 0.4526 - val_loss: 1.3204 - val_accuracy: 0.4890\n",
            "Epoch 4/30\n",
            "449/449 [==============================] - 522s 1s/step - loss: 1.3521 - accuracy: 0.4805 - val_loss: 1.2769 - val_accuracy: 0.5068\n",
            "Epoch 5/30\n",
            "449/449 [==============================] - 513s 1s/step - loss: 1.2954 - accuracy: 0.4997 - val_loss: 1.2441 - val_accuracy: 0.5185\n",
            "Epoch 6/30\n",
            "449/449 [==============================] - 510s 1s/step - loss: 1.2623 - accuracy: 0.5144 - val_loss: 1.2157 - val_accuracy: 0.5313\n",
            "Epoch 7/30\n",
            "449/449 [==============================] - 515s 1s/step - loss: 1.2344 - accuracy: 0.5248 - val_loss: 1.2208 - val_accuracy: 0.5235\n",
            "Epoch 8/30\n",
            "449/449 [==============================] - 516s 1s/step - loss: 1.2122 - accuracy: 0.5387 - val_loss: 1.2037 - val_accuracy: 0.5272\n",
            "Epoch 9/30\n",
            "449/449 [==============================] - 512s 1s/step - loss: 1.1894 - accuracy: 0.5466 - val_loss: 1.1732 - val_accuracy: 0.5422\n",
            "Epoch 10/30\n",
            "449/449 [==============================] - 517s 1s/step - loss: 1.1677 - accuracy: 0.5577 - val_loss: 1.1730 - val_accuracy: 0.5497\n",
            "Epoch 11/30\n",
            "449/449 [==============================] - 521s 1s/step - loss: 1.1449 - accuracy: 0.5637 - val_loss: 1.1825 - val_accuracy: 0.5447\n",
            "Epoch 12/30\n",
            "449/449 [==============================] - 511s 1s/step - loss: 1.1333 - accuracy: 0.5667 - val_loss: 1.1865 - val_accuracy: 0.5506\n",
            "Epoch 13/30\n",
            "449/449 [==============================] - 511s 1s/step - loss: 1.1112 - accuracy: 0.5703 - val_loss: 1.1569 - val_accuracy: 0.5578\n",
            "Epoch 14/30\n",
            "449/449 [==============================] - 514s 1s/step - loss: 1.0983 - accuracy: 0.5772 - val_loss: 1.1618 - val_accuracy: 0.5534\n",
            "Epoch 15/30\n",
            "449/449 [==============================] - 513s 1s/step - loss: 1.0758 - accuracy: 0.5898 - val_loss: 1.1514 - val_accuracy: 0.5561\n",
            "Epoch 16/30\n",
            "449/449 [==============================] - 515s 1s/step - loss: 1.0579 - accuracy: 0.5957 - val_loss: 1.1576 - val_accuracy: 0.5748\n",
            "Epoch 17/30\n",
            "449/449 [==============================] - 518s 1s/step - loss: 1.0460 - accuracy: 0.5977 - val_loss: 1.1561 - val_accuracy: 0.5600\n",
            "Epoch 18/30\n",
            "449/449 [==============================] - 518s 1s/step - loss: 1.0289 - accuracy: 0.6106 - val_loss: 1.1432 - val_accuracy: 0.5614\n",
            "Epoch 19/30\n",
            "449/449 [==============================] - 510s 1s/step - loss: 1.0164 - accuracy: 0.6141 - val_loss: 1.1561 - val_accuracy: 0.5637\n",
            "Epoch 20/30\n",
            "449/449 [==============================] - 511s 1s/step - loss: 1.0032 - accuracy: 0.6183 - val_loss: 1.1680 - val_accuracy: 0.5667\n",
            "Epoch 21/30\n",
            "449/449 [==============================] - 513s 1s/step - loss: 0.9891 - accuracy: 0.6242 - val_loss: 1.1653 - val_accuracy: 0.5662\n",
            "Epoch 22/30\n",
            "449/449 [==============================] - 512s 1s/step - loss: 0.9695 - accuracy: 0.6299 - val_loss: 1.1522 - val_accuracy: 0.5684\n",
            "Epoch 23/30\n",
            "449/449 [==============================] - 512s 1s/step - loss: 0.9645 - accuracy: 0.6367 - val_loss: 1.1690 - val_accuracy: 0.5536\n",
            "Epoch 24/30\n",
            "449/449 [==============================] - 517s 1s/step - loss: 0.9474 - accuracy: 0.6394 - val_loss: 1.1619 - val_accuracy: 0.5667\n",
            "Epoch 25/30\n",
            "449/449 [==============================] - 521s 1s/step - loss: 0.9306 - accuracy: 0.6472 - val_loss: 1.1462 - val_accuracy: 0.5740\n",
            "Epoch 26/30\n",
            "449/449 [==============================] - 514s 1s/step - loss: 0.9161 - accuracy: 0.6515 - val_loss: 1.1807 - val_accuracy: 0.5634\n",
            "Epoch 27/30\n",
            "449/449 [==============================] - 517s 1s/step - loss: 0.9064 - accuracy: 0.6558 - val_loss: 1.1697 - val_accuracy: 0.5695\n",
            "Epoch 28/30\n",
            "449/449 [==============================] - 512s 1s/step - loss: 0.8891 - accuracy: 0.6630 - val_loss: 1.1821 - val_accuracy: 0.5659\n",
            "Epoch 29/30\n",
            "449/449 [==============================] - 511s 1s/step - loss: 0.8819 - accuracy: 0.6665 - val_loss: 1.1837 - val_accuracy: 0.5701\n",
            "Epoch 30/30\n",
            "449/449 [==============================] - 511s 1s/step - loss: 0.8684 - accuracy: 0.6722 - val_loss: 1.1700 - val_accuracy: 0.5726\n"
          ],
          "name": "stdout"
        }
      ]
    },
    {
      "cell_type": "code",
      "metadata": {
        "id": "Ve0BUWHfcqcs"
      },
      "source": [
        ""
      ],
      "execution_count": null,
      "outputs": []
    },
    {
      "cell_type": "code",
      "metadata": {
        "id": "Unov0j1icqfe"
      },
      "source": [
        ""
      ],
      "execution_count": null,
      "outputs": []
    },
    {
      "cell_type": "code",
      "metadata": {
        "id": "Gf8yQcRAcqkK"
      },
      "source": [
        ""
      ],
      "execution_count": null,
      "outputs": []
    },
    {
      "cell_type": "code",
      "metadata": {
        "id": "qITGNqVOcqm-"
      },
      "source": [
        ""
      ],
      "execution_count": null,
      "outputs": []
    },
    {
      "cell_type": "code",
      "metadata": {
        "id": "FTp3ltf0cqp_"
      },
      "source": [
        ""
      ],
      "execution_count": null,
      "outputs": []
    },
    {
      "cell_type": "code",
      "metadata": {
        "id": "8gNIy0UucqsT"
      },
      "source": [
        ""
      ],
      "execution_count": null,
      "outputs": []
    },
    {
      "cell_type": "code",
      "metadata": {
        "id": "mIO8ks46cqxL"
      },
      "source": [
        ""
      ],
      "execution_count": null,
      "outputs": []
    },
    {
      "cell_type": "code",
      "metadata": {
        "id": "RciyAmAXcq0B"
      },
      "source": [
        ""
      ],
      "execution_count": null,
      "outputs": []
    },
    {
      "cell_type": "code",
      "metadata": {
        "id": "M3bjV29icq2p"
      },
      "source": [
        ""
      ],
      "execution_count": null,
      "outputs": []
    },
    {
      "cell_type": "code",
      "metadata": {
        "id": "FMoFKkXycq5t"
      },
      "source": [
        ""
      ],
      "execution_count": null,
      "outputs": []
    },
    {
      "cell_type": "code",
      "metadata": {
        "id": "pK50gSOCcq_F"
      },
      "source": [
        ""
      ],
      "execution_count": null,
      "outputs": []
    },
    {
      "cell_type": "code",
      "metadata": {
        "id": "vS47KTUMcrCT"
      },
      "source": [
        ""
      ],
      "execution_count": null,
      "outputs": []
    },
    {
      "cell_type": "code",
      "metadata": {
        "id": "JBpdVZR7crFB"
      },
      "source": [
        ""
      ],
      "execution_count": null,
      "outputs": []
    },
    {
      "cell_type": "code",
      "metadata": {
        "id": "Pzfj9vTocrH1"
      },
      "source": [
        ""
      ],
      "execution_count": null,
      "outputs": []
    },
    {
      "cell_type": "code",
      "metadata": {
        "id": "sM_CRlzbcq9D"
      },
      "source": [
        ""
      ],
      "execution_count": null,
      "outputs": []
    },
    {
      "cell_type": "code",
      "metadata": {
        "id": "3cyyUbEMcqvS"
      },
      "source": [
        ""
      ],
      "execution_count": null,
      "outputs": []
    },
    {
      "cell_type": "code",
      "metadata": {
        "id": "YjJpCmJ_cqiO"
      },
      "source": [
        ""
      ],
      "execution_count": null,
      "outputs": []
    }
  ]
}